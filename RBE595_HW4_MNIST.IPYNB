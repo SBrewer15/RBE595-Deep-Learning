{
 "cells": [
  {
   "cell_type": "code",
   "execution_count": 1,
   "metadata": {},
   "outputs": [
    {
     "data": {
      "text/html": [
       "<style>.container { width:85% !important; }</style>"
      ],
      "text/plain": [
       "<IPython.core.display.HTML object>"
      ]
     },
     "metadata": {},
     "output_type": "display_data"
    }
   ],
   "source": [
    "# Makes the display take up more of the screen\n",
    "from IPython.core.display import display, HTML\n",
    "display(HTML(\"<style>.container { width:85% !important; }</style>\"))"
   ]
  },
  {
   "cell_type": "code",
   "execution_count": 2,
   "metadata": {
    "scrolled": true
   },
   "outputs": [
    {
     "name": "stderr",
     "output_type": "stream",
     "text": [
      "Using TensorFlow backend.\n",
      "C:\\Users\\M323742\\Anaconda3\\envs\\RBE595\\lib\\site-packages\\tensorflow\\python\\framework\\dtypes.py:516: FutureWarning: Passing (type, 1) or '1type' as a synonym of type is deprecated; in a future version of numpy, it will be understood as (type, (1,)) / '(1,)type'.\n",
      "  _np_qint8 = np.dtype([(\"qint8\", np.int8, 1)])\n",
      "C:\\Users\\M323742\\Anaconda3\\envs\\RBE595\\lib\\site-packages\\tensorflow\\python\\framework\\dtypes.py:517: FutureWarning: Passing (type, 1) or '1type' as a synonym of type is deprecated; in a future version of numpy, it will be understood as (type, (1,)) / '(1,)type'.\n",
      "  _np_quint8 = np.dtype([(\"quint8\", np.uint8, 1)])\n",
      "C:\\Users\\M323742\\Anaconda3\\envs\\RBE595\\lib\\site-packages\\tensorflow\\python\\framework\\dtypes.py:518: FutureWarning: Passing (type, 1) or '1type' as a synonym of type is deprecated; in a future version of numpy, it will be understood as (type, (1,)) / '(1,)type'.\n",
      "  _np_qint16 = np.dtype([(\"qint16\", np.int16, 1)])\n",
      "C:\\Users\\M323742\\Anaconda3\\envs\\RBE595\\lib\\site-packages\\tensorflow\\python\\framework\\dtypes.py:519: FutureWarning: Passing (type, 1) or '1type' as a synonym of type is deprecated; in a future version of numpy, it will be understood as (type, (1,)) / '(1,)type'.\n",
      "  _np_quint16 = np.dtype([(\"quint16\", np.uint16, 1)])\n",
      "C:\\Users\\M323742\\Anaconda3\\envs\\RBE595\\lib\\site-packages\\tensorflow\\python\\framework\\dtypes.py:520: FutureWarning: Passing (type, 1) or '1type' as a synonym of type is deprecated; in a future version of numpy, it will be understood as (type, (1,)) / '(1,)type'.\n",
      "  _np_qint32 = np.dtype([(\"qint32\", np.int32, 1)])\n",
      "C:\\Users\\M323742\\Anaconda3\\envs\\RBE595\\lib\\site-packages\\tensorflow\\python\\framework\\dtypes.py:525: FutureWarning: Passing (type, 1) or '1type' as a synonym of type is deprecated; in a future version of numpy, it will be understood as (type, (1,)) / '(1,)type'.\n",
      "  np_resource = np.dtype([(\"resource\", np.ubyte, 1)])\n",
      "C:\\Users\\M323742\\Anaconda3\\envs\\RBE595\\lib\\site-packages\\tensorboard\\compat\\tensorflow_stub\\dtypes.py:541: FutureWarning: Passing (type, 1) or '1type' as a synonym of type is deprecated; in a future version of numpy, it will be understood as (type, (1,)) / '(1,)type'.\n",
      "  _np_qint8 = np.dtype([(\"qint8\", np.int8, 1)])\n",
      "C:\\Users\\M323742\\Anaconda3\\envs\\RBE595\\lib\\site-packages\\tensorboard\\compat\\tensorflow_stub\\dtypes.py:542: FutureWarning: Passing (type, 1) or '1type' as a synonym of type is deprecated; in a future version of numpy, it will be understood as (type, (1,)) / '(1,)type'.\n",
      "  _np_quint8 = np.dtype([(\"quint8\", np.uint8, 1)])\n",
      "C:\\Users\\M323742\\Anaconda3\\envs\\RBE595\\lib\\site-packages\\tensorboard\\compat\\tensorflow_stub\\dtypes.py:543: FutureWarning: Passing (type, 1) or '1type' as a synonym of type is deprecated; in a future version of numpy, it will be understood as (type, (1,)) / '(1,)type'.\n",
      "  _np_qint16 = np.dtype([(\"qint16\", np.int16, 1)])\n",
      "C:\\Users\\M323742\\Anaconda3\\envs\\RBE595\\lib\\site-packages\\tensorboard\\compat\\tensorflow_stub\\dtypes.py:544: FutureWarning: Passing (type, 1) or '1type' as a synonym of type is deprecated; in a future version of numpy, it will be understood as (type, (1,)) / '(1,)type'.\n",
      "  _np_quint16 = np.dtype([(\"quint16\", np.uint16, 1)])\n",
      "C:\\Users\\M323742\\Anaconda3\\envs\\RBE595\\lib\\site-packages\\tensorboard\\compat\\tensorflow_stub\\dtypes.py:545: FutureWarning: Passing (type, 1) or '1type' as a synonym of type is deprecated; in a future version of numpy, it will be understood as (type, (1,)) / '(1,)type'.\n",
      "  _np_qint32 = np.dtype([(\"qint32\", np.int32, 1)])\n",
      "C:\\Users\\M323742\\Anaconda3\\envs\\RBE595\\lib\\site-packages\\tensorboard\\compat\\tensorflow_stub\\dtypes.py:550: FutureWarning: Passing (type, 1) or '1type' as a synonym of type is deprecated; in a future version of numpy, it will be understood as (type, (1,)) / '(1,)type'.\n",
      "  np_resource = np.dtype([(\"resource\", np.ubyte, 1)])\n"
     ]
    }
   ],
   "source": [
    "from keras.datasets import mnist\n",
    "from keras.models import Sequential\n",
    "from keras.layers import Dense\n",
    "from keras.layers import Dropout\n",
    "from keras.layers import Flatten\n",
    "from keras.layers.convolutional import Convolution2D\n",
    "from keras.layers.convolutional import MaxPooling2D\n",
    "from keras.utils import np_utils\n",
    "import numpy as np\n",
    "import pandas as pd\n",
    "\n",
    "import matplotlib.pyplot as plt\n",
    "%matplotlib inline"
   ]
  },
  {
   "cell_type": "code",
   "execution_count": 3,
   "metadata": {},
   "outputs": [],
   "source": [
    "from keras.preprocessing.image import ImageDataGenerator\n",
    "from keras.constraints import maxnorm\n",
    "from keras.callbacks import ModelCheckpoint"
   ]
  },
  {
   "cell_type": "code",
   "execution_count": 4,
   "metadata": {},
   "outputs": [],
   "source": [
    "import seaborn as sns\n",
    "import random\n",
    "import datetime as dt # for date sorting"
   ]
  },
  {
   "cell_type": "code",
   "execution_count": 5,
   "metadata": {},
   "outputs": [],
   "source": [
    "seed = 7\n",
    "np.random.seed(seed)"
   ]
  },
  {
   "cell_type": "code",
   "execution_count": 6,
   "metadata": {},
   "outputs": [],
   "source": [
    "now=dt.datetime.now()"
   ]
  },
  {
   "cell_type": "markdown",
   "metadata": {},
   "source": [
    "# Multi-Layer Perceptron\n",
    "You will find an implementation of a Multi-Layer Perceptron Model solving this problem in Files/\n",
    "Week 6/CNN MNIST/mnist_mlp_baseline.py. The MLP model should report a prediction error of\n",
    "approximately 1.70%<br>\n",
    "<br>Your assignment consists in outperform this implementation and cross the barrier of 1% prediction\n",
    "error (less than 1%) by developing your own MLP model.<br>\n",
    "<br>Your submission should consist in a python code (Keras+Theano) of your algorithm and a report\n",
    "with a detailed explanation about the development and performance of your model. The model that\n",
    "outperform all the models developed in our course will get extra credit (1 point)."
   ]
  },
  {
   "cell_type": "code",
   "execution_count": 7,
   "metadata": {},
   "outputs": [],
   "source": [
    "(X_train, y_train), (X_test, y_test) = mnist.load_data()"
   ]
  },
  {
   "cell_type": "code",
   "execution_count": 8,
   "metadata": {},
   "outputs": [],
   "source": [
    "num_pixels = X_train.shape[1] * X_train.shape[2]"
   ]
  },
  {
   "cell_type": "code",
   "execution_count": 9,
   "metadata": {},
   "outputs": [],
   "source": [
    "X_train = X_train.reshape(X_train.shape[0], num_pixels).astype('float32')\n",
    "X_test = X_test.reshape(X_test.shape[0], num_pixels).astype('float32')"
   ]
  },
  {
   "cell_type": "code",
   "execution_count": 10,
   "metadata": {},
   "outputs": [
    {
     "data": {
      "text/plain": [
       "((60000, 784), (10000, 784))"
      ]
     },
     "execution_count": 10,
     "metadata": {},
     "output_type": "execute_result"
    }
   ],
   "source": [
    "X_train.shape, X_test.shape"
   ]
  },
  {
   "cell_type": "code",
   "execution_count": 11,
   "metadata": {},
   "outputs": [],
   "source": [
    "# normalize inputs from 0-255 to 0-1\n",
    "X_train = X_train / 255\n",
    "X_test = X_test / 255"
   ]
  },
  {
   "cell_type": "code",
   "execution_count": 12,
   "metadata": {},
   "outputs": [],
   "source": [
    "# one hot encode outputs\n",
    "y_train = np_utils.to_categorical(y_train)\n",
    "y_test = np_utils.to_categorical(y_test)\n",
    "num_classes = y_test.shape[1]"
   ]
  },
  {
   "cell_type": "markdown",
   "metadata": {},
   "source": [
    "# MLP Model to Outperform"
   ]
  },
  {
   "cell_type": "code",
   "execution_count": 13,
   "metadata": {},
   "outputs": [],
   "source": [
    "def baseline_model():\n",
    "    # create model\n",
    "    model = Sequential()\n",
    "    model.add(Dense(num_pixels, input_dim=num_pixels, init='normal', activation='relu'))\n",
    "    model.add(Dense(num_classes, init='normal', activation='softmax'))\n",
    "    # Compile model\n",
    "    model.compile(loss='categorical_crossentropy', optimizer='adam', metrics=['accuracy'])\n",
    "    return model"
   ]
  },
  {
   "cell_type": "code",
   "execution_count": 14,
   "metadata": {},
   "outputs": [
    {
     "name": "stderr",
     "output_type": "stream",
     "text": [
      "C:\\Users\\M323742\\Anaconda3\\envs\\RBE595\\lib\\site-packages\\ipykernel_launcher.py:4: UserWarning: Update your `Dense` call to the Keras 2 API: `Dense(784, input_dim=784, activation=\"relu\", kernel_initializer=\"normal\")`\n",
      "  after removing the cwd from sys.path.\n",
      "C:\\Users\\M323742\\Anaconda3\\envs\\RBE595\\lib\\site-packages\\ipykernel_launcher.py:5: UserWarning: Update your `Dense` call to the Keras 2 API: `Dense(10, activation=\"softmax\", kernel_initializer=\"normal\")`\n",
      "  \"\"\"\n",
      "C:\\Users\\M323742\\Anaconda3\\envs\\RBE595\\lib\\site-packages\\ipykernel_launcher.py:4: UserWarning: The `nb_epoch` argument in `fit` has been renamed `epochs`.\n",
      "  after removing the cwd from sys.path.\n"
     ]
    },
    {
     "name": "stdout",
     "output_type": "stream",
     "text": [
      "WARNING:tensorflow:From C:\\Users\\M323742\\Anaconda3\\envs\\RBE595\\lib\\site-packages\\keras\\backend\\tensorflow_backend.py:422: The name tf.global_variables is deprecated. Please use tf.compat.v1.global_variables instead.\n",
      "\n",
      "Train on 60000 samples, validate on 10000 samples\n",
      "Epoch 1/10\n",
      " - 2s - loss: 0.2782 - accuracy: 0.9211 - val_loss: 0.1410 - val_accuracy: 0.9575\n",
      "Epoch 2/10\n",
      " - 3s - loss: 0.1114 - accuracy: 0.9677 - val_loss: 0.0925 - val_accuracy: 0.9709\n",
      "Epoch 3/10\n",
      " - 3s - loss: 0.0718 - accuracy: 0.9795 - val_loss: 0.0782 - val_accuracy: 0.9769\n",
      "Epoch 4/10\n",
      " - 3s - loss: 0.0503 - accuracy: 0.9855 - val_loss: 0.0747 - val_accuracy: 0.9771\n",
      "Epoch 5/10\n",
      " - 2s - loss: 0.0375 - accuracy: 0.9893 - val_loss: 0.0667 - val_accuracy: 0.9791\n",
      "Epoch 6/10\n",
      " - 2s - loss: 0.0268 - accuracy: 0.9925 - val_loss: 0.0626 - val_accuracy: 0.9809\n",
      "Epoch 7/10\n",
      " - 2s - loss: 0.0208 - accuracy: 0.9950 - val_loss: 0.0626 - val_accuracy: 0.9807\n",
      "Epoch 8/10\n",
      " - 2s - loss: 0.0140 - accuracy: 0.9969 - val_loss: 0.0620 - val_accuracy: 0.9801\n",
      "Epoch 9/10\n",
      " - 3s - loss: 0.0106 - accuracy: 0.9978 - val_loss: 0.0587 - val_accuracy: 0.9810\n",
      "Epoch 10/10\n",
      " - 2s - loss: 0.0082 - accuracy: 0.9985 - val_loss: 0.0600 - val_accuracy: 0.9806\n"
     ]
    },
    {
     "data": {
      "text/plain": [
       "<keras.callbacks.callbacks.History at 0x297830dada0>"
      ]
     },
     "execution_count": 14,
     "metadata": {},
     "output_type": "execute_result"
    }
   ],
   "source": [
    "# build the model\n",
    "model = baseline_model()\n",
    "# Fit the model\n",
    "model.fit(X_train, y_train, validation_data=(X_test, y_test), nb_epoch=10, batch_size=200, verbose=2)\n"
   ]
  },
  {
   "cell_type": "code",
   "execution_count": 15,
   "metadata": {},
   "outputs": [
    {
     "name": "stdout",
     "output_type": "stream",
     "text": [
      "Baseline Error: 1.94%\n"
     ]
    }
   ],
   "source": [
    "# Final evaluation of the model\n",
    "scores = model.evaluate(X_test, y_test, verbose=0)\n",
    "print(\"Baseline Error: %.2f%%\" % (100-scores[1]*100))"
   ]
  },
  {
   "cell_type": "code",
   "execution_count": 16,
   "metadata": {},
   "outputs": [
    {
     "data": {
      "text/plain": [
       "784"
      ]
     },
     "execution_count": 16,
     "metadata": {},
     "output_type": "execute_result"
    }
   ],
   "source": [
    "num_pixels"
   ]
  },
  {
   "cell_type": "markdown",
   "metadata": {},
   "source": [
    "# Better MLP Model"
   ]
  },
  {
   "cell_type": "code",
   "execution_count": 19,
   "metadata": {},
   "outputs": [],
   "source": [
    "def better_mlp_model():\n",
    "    # create model\n",
    "    model = Sequential()\n",
    "    model.add(Dense(num_pixels, input_dim=num_pixels, init='normal', activation='relu'))\n",
    "    model.add(Dropout(dropout))\n",
    "    model.add(Dense(128, init='normal', activation='relu', W_constraint=maxnorm(3)))\n",
    "    model.add(Dropout(dropout))\n",
    "    model.add(Dense(256, init='normal', activation='relu', W_constraint=maxnorm(3)))\n",
    "    model.add(Dropout(dropout))\n",
    "    model.add(Dense(512, init='normal', activation='relu', W_constraint=maxnorm(3)))\n",
    "    model.add(Dropout(dropout))\n",
    "    model.add(Dense(num_classes, init='normal', activation='softmax'))\n",
    "    # Compile model\n",
    "    model.compile(loss='categorical_crossentropy', optimizer='adam', metrics=['accuracy'])\n",
    "    return model"
   ]
  },
  {
   "cell_type": "code",
   "execution_count": 20,
   "metadata": {},
   "outputs": [
    {
     "name": "stderr",
     "output_type": "stream",
     "text": [
      "C:\\Users\\M323742\\Anaconda3\\envs\\RBE595\\lib\\site-packages\\ipykernel_launcher.py:4: UserWarning: Update your `Dense` call to the Keras 2 API: `Dense(784, input_dim=784, activation=\"relu\", kernel_initializer=\"normal\")`\n",
      "  after removing the cwd from sys.path.\n",
      "C:\\Users\\M323742\\Anaconda3\\envs\\RBE595\\lib\\site-packages\\ipykernel_launcher.py:6: UserWarning: Update your `Dense` call to the Keras 2 API: `Dense(128, activation=\"relu\", kernel_initializer=\"normal\", kernel_constraint=<keras.con...)`\n",
      "  \n",
      "C:\\Users\\M323742\\Anaconda3\\envs\\RBE595\\lib\\site-packages\\ipykernel_launcher.py:8: UserWarning: Update your `Dense` call to the Keras 2 API: `Dense(256, activation=\"relu\", kernel_initializer=\"normal\", kernel_constraint=<keras.con...)`\n",
      "  \n",
      "C:\\Users\\M323742\\Anaconda3\\envs\\RBE595\\lib\\site-packages\\ipykernel_launcher.py:10: UserWarning: Update your `Dense` call to the Keras 2 API: `Dense(512, activation=\"relu\", kernel_initializer=\"normal\", kernel_constraint=<keras.con...)`\n",
      "  # Remove the CWD from sys.path while we load stuff.\n",
      "C:\\Users\\M323742\\Anaconda3\\envs\\RBE595\\lib\\site-packages\\ipykernel_launcher.py:12: UserWarning: Update your `Dense` call to the Keras 2 API: `Dense(10, activation=\"softmax\", kernel_initializer=\"normal\")`\n",
      "  if sys.path[0] == '':\n"
     ]
    },
    {
     "name": "stdout",
     "output_type": "stream",
     "text": [
      "Model: \"sequential_2\"\n",
      "_________________________________________________________________\n",
      "Layer (type)                 Output Shape              Param #   \n",
      "=================================================================\n",
      "dense_3 (Dense)              (None, 784)               615440    \n",
      "_________________________________________________________________\n",
      "dropout_1 (Dropout)          (None, 784)               0         \n",
      "_________________________________________________________________\n",
      "dense_4 (Dense)              (None, 128)               100480    \n",
      "_________________________________________________________________\n",
      "dropout_2 (Dropout)          (None, 128)               0         \n",
      "_________________________________________________________________\n",
      "dense_5 (Dense)              (None, 256)               33024     \n",
      "_________________________________________________________________\n",
      "dropout_3 (Dropout)          (None, 256)               0         \n",
      "_________________________________________________________________\n",
      "dense_6 (Dense)              (None, 512)               131584    \n",
      "_________________________________________________________________\n",
      "dropout_4 (Dropout)          (None, 512)               0         \n",
      "_________________________________________________________________\n",
      "dense_7 (Dense)              (None, 10)                5130      \n",
      "=================================================================\n",
      "Total params: 885,658\n",
      "Trainable params: 885,658\n",
      "Non-trainable params: 0\n",
      "_________________________________________________________________\n"
     ]
    }
   ],
   "source": [
    "batch_size=128\n",
    "nb_epochs=50\n",
    "dropout=0.2\n",
    "\n",
    "# build the model\n",
    "model = better_mlp_model()\n",
    "model.summary()"
   ]
  },
  {
   "cell_type": "code",
   "execution_count": 21,
   "metadata": {},
   "outputs": [],
   "source": [
    "# checkpoint\n",
    "filepath=\"weights.best.hdf5\"\n",
    "checkpoint = ModelCheckpoint(filepath, monitor='val_accuracy', verbose=1, save_best_only=True, mode='max')\n",
    "callbacks_list = [checkpoint]"
   ]
  },
  {
   "cell_type": "code",
   "execution_count": 22,
   "metadata": {
    "scrolled": true
   },
   "outputs": [
    {
     "name": "stderr",
     "output_type": "stream",
     "text": [
      "C:\\Users\\M323742\\Anaconda3\\envs\\RBE595\\lib\\site-packages\\ipykernel_launcher.py:2: UserWarning: The `nb_epoch` argument in `fit` has been renamed `epochs`.\n",
      "  \n"
     ]
    },
    {
     "name": "stdout",
     "output_type": "stream",
     "text": [
      "Train on 60000 samples, validate on 10000 samples\n",
      "Epoch 1/50\n",
      " - 8s - loss: 0.3104 - accuracy: 0.9055 - val_loss: 0.1125 - val_accuracy: 0.9651\n",
      "\n",
      "Epoch 00001: val_accuracy improved from -inf to 0.96510, saving model to weights.best.hdf5\n",
      "Epoch 2/50\n",
      " - 6s - loss: 0.1219 - accuracy: 0.9637 - val_loss: 0.1087 - val_accuracy: 0.9657\n",
      "\n",
      "Epoch 00002: val_accuracy improved from 0.96510 to 0.96570, saving model to weights.best.hdf5\n",
      "Epoch 3/50\n",
      " - 7s - loss: 0.0938 - accuracy: 0.9717 - val_loss: 0.0962 - val_accuracy: 0.9707\n",
      "\n",
      "Epoch 00003: val_accuracy improved from 0.96570 to 0.97070, saving model to weights.best.hdf5\n",
      "Epoch 4/50\n",
      " - 7s - loss: 0.0748 - accuracy: 0.9775 - val_loss: 0.0736 - val_accuracy: 0.9794\n",
      "\n",
      "Epoch 00004: val_accuracy improved from 0.97070 to 0.97940, saving model to weights.best.hdf5\n",
      "Epoch 5/50\n",
      " - 7s - loss: 0.0615 - accuracy: 0.9813 - val_loss: 0.0639 - val_accuracy: 0.9806\n",
      "\n",
      "Epoch 00005: val_accuracy improved from 0.97940 to 0.98060, saving model to weights.best.hdf5\n",
      "Epoch 6/50\n",
      " - 8s - loss: 0.0524 - accuracy: 0.9844 - val_loss: 0.0693 - val_accuracy: 0.9809\n",
      "\n",
      "Epoch 00006: val_accuracy improved from 0.98060 to 0.98090, saving model to weights.best.hdf5\n",
      "Epoch 7/50\n",
      " - 7s - loss: 0.0514 - accuracy: 0.9848 - val_loss: 0.0765 - val_accuracy: 0.9804\n",
      "\n",
      "Epoch 00007: val_accuracy did not improve from 0.98090\n",
      "Epoch 8/50\n",
      " - 7s - loss: 0.0431 - accuracy: 0.9873 - val_loss: 0.0730 - val_accuracy: 0.9796\n",
      "\n",
      "Epoch 00008: val_accuracy did not improve from 0.98090\n",
      "Epoch 9/50\n",
      " - 7s - loss: 0.0407 - accuracy: 0.9877 - val_loss: 0.0725 - val_accuracy: 0.9808\n",
      "\n",
      "Epoch 00009: val_accuracy did not improve from 0.98090\n",
      "Epoch 10/50\n",
      " - 7s - loss: 0.0374 - accuracy: 0.9889 - val_loss: 0.0707 - val_accuracy: 0.9819\n",
      "\n",
      "Epoch 00010: val_accuracy improved from 0.98090 to 0.98190, saving model to weights.best.hdf5\n",
      "Epoch 11/50\n",
      " - 7s - loss: 0.0335 - accuracy: 0.9894 - val_loss: 0.0702 - val_accuracy: 0.9818\n",
      "\n",
      "Epoch 00011: val_accuracy did not improve from 0.98190\n",
      "Epoch 12/50\n",
      " - 7s - loss: 0.0326 - accuracy: 0.9905 - val_loss: 0.0701 - val_accuracy: 0.9816\n",
      "\n",
      "Epoch 00012: val_accuracy did not improve from 0.98190\n",
      "Epoch 13/50\n",
      " - 7s - loss: 0.0303 - accuracy: 0.9906 - val_loss: 0.0660 - val_accuracy: 0.9833\n",
      "\n",
      "Epoch 00013: val_accuracy improved from 0.98190 to 0.98330, saving model to weights.best.hdf5\n",
      "Epoch 14/50\n",
      " - 7s - loss: 0.0270 - accuracy: 0.9916 - val_loss: 0.0710 - val_accuracy: 0.9841\n",
      "\n",
      "Epoch 00014: val_accuracy improved from 0.98330 to 0.98410, saving model to weights.best.hdf5\n",
      "Epoch 15/50\n",
      " - 7s - loss: 0.0264 - accuracy: 0.9920 - val_loss: 0.0782 - val_accuracy: 0.9804\n",
      "\n",
      "Epoch 00015: val_accuracy did not improve from 0.98410\n",
      "Epoch 16/50\n",
      " - 7s - loss: 0.0241 - accuracy: 0.9927 - val_loss: 0.0983 - val_accuracy: 0.9777\n",
      "\n",
      "Epoch 00016: val_accuracy did not improve from 0.98410\n",
      "Epoch 17/50\n",
      " - 7s - loss: 0.0236 - accuracy: 0.9928 - val_loss: 0.0835 - val_accuracy: 0.9808\n",
      "\n",
      "Epoch 00017: val_accuracy did not improve from 0.98410\n",
      "Epoch 18/50\n",
      " - 7s - loss: 0.0254 - accuracy: 0.9923 - val_loss: 0.0737 - val_accuracy: 0.9838\n",
      "\n",
      "Epoch 00018: val_accuracy did not improve from 0.98410\n",
      "Epoch 19/50\n",
      " - 7s - loss: 0.0218 - accuracy: 0.9936 - val_loss: 0.0678 - val_accuracy: 0.9832\n",
      "\n",
      "Epoch 00019: val_accuracy did not improve from 0.98410\n",
      "Epoch 20/50\n",
      " - 7s - loss: 0.0211 - accuracy: 0.9937 - val_loss: 0.0705 - val_accuracy: 0.9834\n",
      "\n",
      "Epoch 00020: val_accuracy did not improve from 0.98410\n",
      "Epoch 21/50\n",
      " - 8s - loss: 0.0212 - accuracy: 0.9937 - val_loss: 0.0774 - val_accuracy: 0.9842\n",
      "\n",
      "Epoch 00021: val_accuracy improved from 0.98410 to 0.98420, saving model to weights.best.hdf5\n",
      "Epoch 22/50\n",
      " - 7s - loss: 0.0197 - accuracy: 0.9941 - val_loss: 0.0779 - val_accuracy: 0.9839\n",
      "\n",
      "Epoch 00022: val_accuracy did not improve from 0.98420\n",
      "Epoch 23/50\n",
      " - 7s - loss: 0.0190 - accuracy: 0.9944 - val_loss: 0.0793 - val_accuracy: 0.9838\n",
      "\n",
      "Epoch 00023: val_accuracy did not improve from 0.98420\n",
      "Epoch 24/50\n",
      " - 7s - loss: 0.0171 - accuracy: 0.9949 - val_loss: 0.0793 - val_accuracy: 0.9840\n",
      "\n",
      "Epoch 00024: val_accuracy did not improve from 0.98420\n",
      "Epoch 25/50\n",
      " - 7s - loss: 0.0185 - accuracy: 0.9945 - val_loss: 0.0877 - val_accuracy: 0.9822\n",
      "\n",
      "Epoch 00025: val_accuracy did not improve from 0.98420\n",
      "Epoch 26/50\n",
      " - 7s - loss: 0.0190 - accuracy: 0.9943 - val_loss: 0.0761 - val_accuracy: 0.9838\n",
      "\n",
      "Epoch 00026: val_accuracy did not improve from 0.98420\n",
      "Epoch 27/50\n",
      " - 7s - loss: 0.0168 - accuracy: 0.9951 - val_loss: 0.0835 - val_accuracy: 0.9811\n",
      "\n",
      "Epoch 00027: val_accuracy did not improve from 0.98420\n",
      "Epoch 28/50\n",
      " - 8s - loss: 0.0171 - accuracy: 0.9950 - val_loss: 0.0711 - val_accuracy: 0.9850\n",
      "\n",
      "Epoch 00028: val_accuracy improved from 0.98420 to 0.98500, saving model to weights.best.hdf5\n",
      "Epoch 29/50\n",
      " - 9s - loss: 0.0156 - accuracy: 0.9954 - val_loss: 0.0825 - val_accuracy: 0.9845\n",
      "\n",
      "Epoch 00029: val_accuracy did not improve from 0.98500\n",
      "Epoch 30/50\n",
      " - 8s - loss: 0.0159 - accuracy: 0.9956 - val_loss: 0.0881 - val_accuracy: 0.9830\n",
      "\n",
      "Epoch 00030: val_accuracy did not improve from 0.98500\n",
      "Epoch 31/50\n",
      " - 7s - loss: 0.0154 - accuracy: 0.9955 - val_loss: 0.0976 - val_accuracy: 0.9823\n",
      "\n",
      "Epoch 00031: val_accuracy did not improve from 0.98500\n",
      "Epoch 32/50\n",
      " - 8s - loss: 0.0161 - accuracy: 0.9953 - val_loss: 0.0866 - val_accuracy: 0.9829\n",
      "\n",
      "Epoch 00032: val_accuracy did not improve from 0.98500\n",
      "Epoch 33/50\n",
      " - 7s - loss: 0.0141 - accuracy: 0.9956 - val_loss: 0.0867 - val_accuracy: 0.9841\n",
      "\n",
      "Epoch 00033: val_accuracy did not improve from 0.98500\n",
      "Epoch 34/50\n",
      " - 8s - loss: 0.0154 - accuracy: 0.9956 - val_loss: 0.0827 - val_accuracy: 0.9838\n",
      "\n",
      "Epoch 00034: val_accuracy did not improve from 0.98500\n",
      "Epoch 35/50\n",
      " - 7s - loss: 0.0135 - accuracy: 0.9958 - val_loss: 0.1073 - val_accuracy: 0.9819\n",
      "\n",
      "Epoch 00035: val_accuracy did not improve from 0.98500\n",
      "Epoch 36/50\n",
      " - 8s - loss: 0.0167 - accuracy: 0.9954 - val_loss: 0.0788 - val_accuracy: 0.9843\n",
      "\n",
      "Epoch 00036: val_accuracy did not improve from 0.98500\n",
      "Epoch 37/50\n",
      " - 7s - loss: 0.0134 - accuracy: 0.9964 - val_loss: 0.0984 - val_accuracy: 0.9827\n",
      "\n",
      "Epoch 00037: val_accuracy did not improve from 0.98500\n",
      "Epoch 38/50\n",
      " - 7s - loss: 0.0135 - accuracy: 0.9959 - val_loss: 0.1036 - val_accuracy: 0.9827\n",
      "\n",
      "Epoch 00038: val_accuracy did not improve from 0.98500\n",
      "Epoch 39/50\n",
      " - 7s - loss: 0.0144 - accuracy: 0.9961 - val_loss: 0.0944 - val_accuracy: 0.9833\n",
      "\n",
      "Epoch 00039: val_accuracy did not improve from 0.98500\n",
      "Epoch 40/50\n",
      " - 7s - loss: 0.0130 - accuracy: 0.9967 - val_loss: 0.0933 - val_accuracy: 0.9849\n",
      "\n",
      "Epoch 00040: val_accuracy did not improve from 0.98500\n",
      "Epoch 41/50\n",
      " - 7s - loss: 0.0142 - accuracy: 0.9960 - val_loss: 0.0792 - val_accuracy: 0.9862\n",
      "\n",
      "Epoch 00041: val_accuracy improved from 0.98500 to 0.98620, saving model to weights.best.hdf5\n",
      "Epoch 42/50\n",
      " - 7s - loss: 0.0130 - accuracy: 0.9965 - val_loss: 0.0926 - val_accuracy: 0.9863\n",
      "\n",
      "Epoch 00042: val_accuracy improved from 0.98620 to 0.98630, saving model to weights.best.hdf5\n",
      "Epoch 43/50\n",
      " - 7s - loss: 0.0120 - accuracy: 0.9965 - val_loss: 0.0923 - val_accuracy: 0.9844\n",
      "\n",
      "Epoch 00043: val_accuracy did not improve from 0.98630\n",
      "Epoch 44/50\n",
      " - 7s - loss: 0.0151 - accuracy: 0.9958 - val_loss: 0.0804 - val_accuracy: 0.9842\n",
      "\n",
      "Epoch 00044: val_accuracy did not improve from 0.98630\n",
      "Epoch 45/50\n",
      " - 7s - loss: 0.0121 - accuracy: 0.9966 - val_loss: 0.1085 - val_accuracy: 0.9828\n",
      "\n",
      "Epoch 00045: val_accuracy did not improve from 0.98630\n",
      "Epoch 46/50\n",
      " - 7s - loss: 0.0148 - accuracy: 0.9959 - val_loss: 0.0771 - val_accuracy: 0.9843\n",
      "\n",
      "Epoch 00046: val_accuracy did not improve from 0.98630\n",
      "Epoch 47/50\n",
      " - 7s - loss: 0.0104 - accuracy: 0.9970 - val_loss: 0.1181 - val_accuracy: 0.9824\n",
      "\n",
      "Epoch 00047: val_accuracy did not improve from 0.98630\n",
      "Epoch 48/50\n",
      " - 6s - loss: 0.0122 - accuracy: 0.9967 - val_loss: 0.0988 - val_accuracy: 0.9854\n",
      "\n",
      "Epoch 00048: val_accuracy did not improve from 0.98630\n",
      "Epoch 49/50\n",
      " - 7s - loss: 0.0126 - accuracy: 0.9967 - val_loss: 0.0924 - val_accuracy: 0.9852\n",
      "\n",
      "Epoch 00049: val_accuracy did not improve from 0.98630\n",
      "Epoch 50/50\n",
      " - 7s - loss: 0.0151 - accuracy: 0.9960 - val_loss: 0.0800 - val_accuracy: 0.9856\n",
      "\n",
      "Epoch 00050: val_accuracy did not improve from 0.98630\n"
     ]
    }
   ],
   "source": [
    "# Fit the model\n",
    "history=model.fit(X_train, y_train, validation_data=(X_test, y_test), nb_epoch=nb_epochs, batch_size=batch_size, callbacks=callbacks_list, verbose=2)"
   ]
  },
  {
   "cell_type": "code",
   "execution_count": 23,
   "metadata": {},
   "outputs": [],
   "source": [
    "model.load_weights(\"weights.best.hdf5\")"
   ]
  },
  {
   "cell_type": "code",
   "execution_count": 24,
   "metadata": {},
   "outputs": [
    {
     "name": "stdout",
     "output_type": "stream",
     "text": [
      "Better MLP Error: 1.37%\n"
     ]
    }
   ],
   "source": [
    "# Final evaluation of the model\n",
    "scores = model.evaluate(X_test, y_test, verbose=0)\n",
    "print(\"Better MLP Error: %.2f%%\" % (100-scores[1]*100))"
   ]
  },
  {
   "cell_type": "code",
   "execution_count": 25,
   "metadata": {},
   "outputs": [
    {
     "data": {
      "image/png": "[encoded data removed]",
      "text/plain": [
       "<Figure size 720x360 with 2 Axes>"
      ]
     },
     "metadata": {
      "needs_background": "light"
     },
     "output_type": "display_data"
    }
   ],
   "source": [
    "# Plot the loss and accuracy curves for training and validation \n",
    "fig, ax = plt.subplots(2,1, figsize=(10, 5))\n",
    "ax[0].plot(history.history['loss'], color='b', label=\"Training loss\")\n",
    "ax[0].plot(history.history['val_loss'], color='r', label=\"validation loss\",axes =ax[0])\n",
    "legend = ax[0].legend(loc='best', shadow=True)\n",
    "\n",
    "ax[1].plot(history.history['accuracy'], color='b', label=\"Training accuracy\")\n",
    "ax[1].plot(history.history['val_accuracy'], color='r',label=\"Validation accuracy\")\n",
    "legend = ax[1].legend(loc='best', shadow=True)"
   ]
  },
  {
   "cell_type": "code",
   "execution_count": 26,
   "metadata": {},
   "outputs": [],
   "source": [
    "y_pred = model.predict(X_test)\n",
    "X_test__ = X_test.reshape(X_test.shape[0], 28, 28)"
   ]
  },
  {
   "cell_type": "code",
   "execution_count": 27,
   "metadata": {},
   "outputs": [],
   "source": [
    "Actual=[y_test[i].argmax() for i, val in enumerate(y_test) ]\n",
    "Prediction=[y_pred[i].argmax() for i, val in enumerate(y_pred) ]\n",
    "\n",
    "df_pred=pd.DataFrame(y_pred)\n",
    "\n",
    "df_pred['Actual']=Actual\n",
    "df_pred['Prediction']=Prediction\n",
    "df_pred['Error']=df_pred['Actual']-df_pred['Prediction']\n",
    "df_pred.loc[df_pred[df_pred['Error']!=0].index,'Error']=1 # if incorrect 1 else 0\n",
    "\n",
    "# Find the probability associated with the actual digit\n",
    "vfunc=np.vectorize(lambda idx: df_pred.loc[idx,df_pred.loc[idx,'Actual']])\n",
    "df_pred['Probability']=vfunc(df_pred.index)"
   ]
  },
  {
   "cell_type": "code",
   "execution_count": 28,
   "metadata": {},
   "outputs": [],
   "source": [
    "# Sort by least confident \n",
    "df_pred.sort_values('Probability', inplace=True)"
   ]
  },
  {
   "cell_type": "code",
   "execution_count": 29,
   "metadata": {},
   "outputs": [
    {
     "data": {
      "image/png": "[encoded data removed]",
      "text/plain": [
       "<Figure size 576x648 with 16 Axes>"
      ]
     },
     "metadata": {},
     "output_type": "display_data"
    }
   ],
   "source": [
    "row=4; col=4\n",
    "fig, axes = plt.subplots(row, col, gridspec_kw={'hspace': 0.5, 'wspace': 0.1}, figsize=(8, 9))\n",
    "count=0\n",
    "for r in range(row):\n",
    "    for c in range(col):\n",
    "        idx=df_pred.index[count]\n",
    "        sns.heatmap(X_test__[idx],ax=axes[r,c], square=True, cbar=False,vmin=0,vmax=1,cmap='Greys')\n",
    "        axes[r,c].set(title = f\"Actual: {df_pred.loc[idx,'Actual']}\\nPrediction: {df_pred.loc[idx,'Prediction']}\");\n",
    "        axes[r,c].set_xticks([])\n",
    "        axes[r,c].set_yticks([])\n",
    "        \n",
    "        count+=1\n",
    "        \n",
    "fig.suptitle('Worst Predictions from Model',y=1.0, ha='center', fontsize=28, fontweight='bold')\n",
    "plt.figtext(0.5,  .08, f'Generated on: {now.strftime(\"%a %b %d %Y\")} at {now.strftime(\"%H:%M\")}', \n",
    "            color='Black', ha='center',fontsize=12)\n",
    "\n",
    "plt.show()"
   ]
  },
  {
   "cell_type": "code",
   "execution_count": null,
   "metadata": {},
   "outputs": [],
   "source": []
  },
  {
   "cell_type": "markdown",
   "metadata": {},
   "source": [
    "# Convolutional Neural Network \n",
    "You will find an implementation of a Convolutional Neural Network Model solving this problem in\n",
    "Files/ Week 6/CNN MNIST/mnist_cnn.py. The CNN model should report a prediction error of\n",
    "approximately 1%.<br>\n",
    "<br>Your assignment consists in outperform this implementation and cross the barrier of 1% prediction\n",
    "error (less than 1%) by developing your own CNN model.<br>\n",
    "<br>Your submission should consist in a python code (Keras+Theano or Keras+TensorFlow) of your\n",
    "algorithm and a report with a detailed explanation about the development and performance of your\n",
    "model. The model that outperform all the models developed in our course will get extra credit (1\n",
    "point)."
   ]
  },
  {
   "cell_type": "code",
   "execution_count": 30,
   "metadata": {},
   "outputs": [],
   "source": [
    "# Reload data\n",
    "(X_train, y_train), (X_test, y_test) = mnist.load_data()"
   ]
  },
  {
   "cell_type": "code",
   "execution_count": 31,
   "metadata": {},
   "outputs": [],
   "source": [
    "# reshape to be [samples][channels][width][height]\n",
    "X_train = X_train.reshape(X_train.shape[0], 1, 28, 28).astype('float32')\n",
    "X_test = X_test.reshape(X_test.shape[0], 1, 28, 28).astype('float32')"
   ]
  },
  {
   "cell_type": "code",
   "execution_count": 32,
   "metadata": {},
   "outputs": [],
   "source": [
    "# normalize inputs from 0-255 to 0-1\n",
    "X_train = X_train / 255\n",
    "X_test = X_test / 255"
   ]
  },
  {
   "cell_type": "code",
   "execution_count": 36,
   "metadata": {},
   "outputs": [
    {
     "data": {
      "image/png": "[encoded data removed]",
      "text/plain": [
       "<Figure size 360x360 with 25 Axes>"
      ]
     },
     "metadata": {},
     "output_type": "display_data"
    }
   ],
   "source": [
    "## Data visualization\n",
    "row=5\n",
    "col=5\n",
    "fig, axes = plt.subplots(row, col, gridspec_kw={'hspace': 0.1, 'wspace': 0.1}, figsize=(5,5))\n",
    "for r in range(row):\n",
    "    for c in range(col):\n",
    "        idx=random.randint(0, X_train.shape[0]) # pick random index to display\n",
    "        sns.heatmap(X_train[idx][0],ax=axes[r,c], square=True, cbar=False,vmin=0,vmax=1,cmap='Greys')\n",
    "        axes[r,c].set_title(f'Label: {y_train[idx]}',y=0.85, size=8)\n",
    "        axes[r,c].set_xticks([])\n",
    "        axes[r,c].set_yticks([])\n",
    "        \n",
    "plt.show()"
   ]
  },
  {
   "cell_type": "code",
   "execution_count": 37,
   "metadata": {},
   "outputs": [],
   "source": [
    "# one hot encode outputs\n",
    "y_train = np_utils.to_categorical(y_train)\n",
    "y_test = np_utils.to_categorical(y_test)"
   ]
  },
  {
   "cell_type": "code",
   "execution_count": 38,
   "metadata": {},
   "outputs": [],
   "source": [
    "num_classes = y_test.shape[1]"
   ]
  },
  {
   "cell_type": "code",
   "execution_count": 39,
   "metadata": {},
   "outputs": [
    {
     "data": {
      "text/plain": [
       "60000"
      ]
     },
     "execution_count": 39,
     "metadata": {},
     "output_type": "execute_result"
    }
   ],
   "source": [
    "X_train.shape[0]"
   ]
  },
  {
   "cell_type": "code",
   "execution_count": 40,
   "metadata": {},
   "outputs": [
    {
     "data": {
      "text/plain": [
       "array([0., 0., 0., 0., 0., 0., 0., 0., 1., 0.], dtype=float32)"
      ]
     },
     "execution_count": 40,
     "metadata": {},
     "output_type": "execute_result"
    }
   ],
   "source": [
    "y_train[idx]"
   ]
  },
  {
   "cell_type": "markdown",
   "metadata": {},
   "source": [
    "# CNN Model to outperform:"
   ]
  },
  {
   "cell_type": "code",
   "execution_count": 41,
   "metadata": {},
   "outputs": [],
   "source": [
    "# reshape to be [samples][width][height][channels]\n",
    "X_train = X_train.reshape(X_train.shape[0], 28, 28, 1).astype('float32')\n",
    "X_test = X_test.reshape(X_test.shape[0], 28, 28, 1).astype('float32')"
   ]
  },
  {
   "cell_type": "code",
   "execution_count": 42,
   "metadata": {},
   "outputs": [],
   "source": [
    "input_shape = (28, 28,1)"
   ]
  },
  {
   "cell_type": "code",
   "execution_count": 43,
   "metadata": {},
   "outputs": [],
   "source": [
    "# define a simple CNN model\n",
    "def baseline_model():\n",
    "    # create model\n",
    "    model = Sequential()\n",
    "    model.add(Convolution2D(32, (5, 5), border_mode='valid', input_shape=input_shape, activation='relu'))\n",
    "    model.add(MaxPooling2D(pool_size=(2, 2)))\n",
    "    model.add(Dropout(0.2))\n",
    "    model.add(Flatten())\n",
    "    model.add(Dense(128, activation='relu'))\n",
    "    model.add(Dense(num_classes, activation='softmax'))\n",
    "    # Compile model\n",
    "    model.compile(loss='categorical_crossentropy', optimizer='adam', metrics=['accuracy'])\n",
    "    return model"
   ]
  },
  {
   "cell_type": "code",
   "execution_count": 44,
   "metadata": {},
   "outputs": [
    {
     "name": "stdout",
     "output_type": "stream",
     "text": [
      "WARNING:tensorflow:From C:\\Users\\M323742\\Anaconda3\\envs\\RBE595\\lib\\site-packages\\keras\\backend\\tensorflow_backend.py:4070: The name tf.nn.max_pool is deprecated. Please use tf.nn.max_pool2d instead.\n",
      "\n"
     ]
    },
    {
     "name": "stderr",
     "output_type": "stream",
     "text": [
      "C:\\Users\\M323742\\Anaconda3\\envs\\RBE595\\lib\\site-packages\\ipykernel_launcher.py:5: UserWarning: Update your `Conv2D` call to the Keras 2 API: `Conv2D(32, (5, 5), input_shape=(28, 28, 1..., activation=\"relu\", padding=\"valid\")`\n",
      "  \"\"\"\n"
     ]
    }
   ],
   "source": [
    "# build the model\n",
    "model = baseline_model()"
   ]
  },
  {
   "cell_type": "code",
   "execution_count": 45,
   "metadata": {
    "scrolled": false
   },
   "outputs": [
    {
     "name": "stderr",
     "output_type": "stream",
     "text": [
      "C:\\Users\\M323742\\Anaconda3\\envs\\RBE595\\lib\\site-packages\\ipykernel_launcher.py:2: UserWarning: The `nb_epoch` argument in `fit` has been renamed `epochs`.\n",
      "  \n"
     ]
    },
    {
     "name": "stdout",
     "output_type": "stream",
     "text": [
      "Train on 60000 samples, validate on 10000 samples\n",
      "Epoch 1/10\n",
      " - 14s - loss: 0.2385 - accuracy: 0.9316 - val_loss: 0.0789 - val_accuracy: 0.9749\n",
      "Epoch 2/10\n",
      " - 14s - loss: 0.0751 - accuracy: 0.9778 - val_loss: 0.0508 - val_accuracy: 0.9833\n",
      "Epoch 3/10\n",
      " - 13s - loss: 0.0503 - accuracy: 0.9844 - val_loss: 0.0423 - val_accuracy: 0.9859\n",
      "Epoch 4/10\n",
      " - 13s - loss: 0.0395 - accuracy: 0.9877 - val_loss: 0.0369 - val_accuracy: 0.9873\n",
      "Epoch 5/10\n",
      " - 13s - loss: 0.0325 - accuracy: 0.9900 - val_loss: 0.0326 - val_accuracy: 0.9889\n",
      "Epoch 6/10\n",
      " - 13s - loss: 0.0266 - accuracy: 0.9913 - val_loss: 0.0335 - val_accuracy: 0.9888\n",
      "Epoch 7/10\n",
      " - 13s - loss: 0.0222 - accuracy: 0.9930 - val_loss: 0.0329 - val_accuracy: 0.9891\n",
      "Epoch 8/10\n",
      " - 13s - loss: 0.0190 - accuracy: 0.9940 - val_loss: 0.0365 - val_accuracy: 0.9884\n",
      "Epoch 9/10\n",
      " - 13s - loss: 0.0163 - accuracy: 0.9949 - val_loss: 0.0390 - val_accuracy: 0.9881\n",
      "Epoch 10/10\n",
      " - 13s - loss: 0.0133 - accuracy: 0.9958 - val_loss: 0.0313 - val_accuracy: 0.9895\n"
     ]
    },
    {
     "data": {
      "text/plain": [
       "<keras.callbacks.callbacks.History at 0x2978b444be0>"
      ]
     },
     "execution_count": 45,
     "metadata": {},
     "output_type": "execute_result"
    }
   ],
   "source": [
    "# Fit the model\n",
    "model.fit(X_train, y_train, validation_data=(X_test, y_test), nb_epoch=10, batch_size=200, verbose=2)"
   ]
  },
  {
   "cell_type": "code",
   "execution_count": 46,
   "metadata": {},
   "outputs": [
    {
     "name": "stdout",
     "output_type": "stream",
     "text": [
      "CNN Error: 1.05%\n"
     ]
    }
   ],
   "source": [
    "# Final evaluation of the model\n",
    "scores = model.evaluate(X_test, y_test, verbose=0)\n",
    "print(\"CNN Error: %.2f%%\" % (100-scores[1]*100))"
   ]
  },
  {
   "cell_type": "markdown",
   "metadata": {},
   "source": [
    "# Better CNN Model With Image Augmentation"
   ]
  },
  {
   "cell_type": "code",
   "execution_count": 47,
   "metadata": {},
   "outputs": [],
   "source": [
    "def Better_CNN_model():\n",
    "    # create model\n",
    "    model = Sequential()\n",
    "    model.add(Convolution2D(64, (3, 3), input_shape=input_shape, activation='relu', padding='same'))\n",
    "    model.add(Convolution2D(64, kernel_size = (3,3), activation=\"relu\",padding='same'))\n",
    "    model.add(MaxPooling2D(pool_size=(2, 2)))\n",
    "    model.add(Dropout(dropout))\n",
    "    \n",
    "    model.add(Convolution2D(128, (3, 3), activation='relu', padding='same'))\n",
    "    model.add(Convolution2D(128, (3, 3), activation='relu', padding='same'))\n",
    "    model.add(MaxPooling2D(pool_size=(2, 2)))\n",
    "    \n",
    "    model.add(Dropout(dropout))\n",
    "    model.add(Flatten())\n",
    "    model.add(Dense(512, activation='relu'))\n",
    "    model.add(Dropout(dropout))\n",
    "    \n",
    "    model.add(Dense(num_classes, activation='softmax'))\n",
    "    # Compile model\n",
    "    model.compile(loss='categorical_crossentropy', optimizer='adam', metrics=['accuracy'])\n",
    "    return model"
   ]
  },
  {
   "cell_type": "code",
   "execution_count": 48,
   "metadata": {
    "scrolled": false
   },
   "outputs": [
    {
     "name": "stdout",
     "output_type": "stream",
     "text": [
      "Model: \"sequential_4\"\n",
      "_________________________________________________________________\n",
      "Layer (type)                 Output Shape              Param #   \n",
      "=================================================================\n",
      "conv2d_2 (Conv2D)            (None, 28, 28, 64)        640       \n",
      "_________________________________________________________________\n",
      "conv2d_3 (Conv2D)            (None, 28, 28, 64)        36928     \n",
      "_________________________________________________________________\n",
      "max_pooling2d_2 (MaxPooling2 (None, 14, 14, 64)        0         \n",
      "_________________________________________________________________\n",
      "dropout_6 (Dropout)          (None, 14, 14, 64)        0         \n",
      "_________________________________________________________________\n",
      "conv2d_4 (Conv2D)            (None, 14, 14, 128)       73856     \n",
      "_________________________________________________________________\n",
      "conv2d_5 (Conv2D)            (None, 14, 14, 128)       147584    \n",
      "_________________________________________________________________\n",
      "max_pooling2d_3 (MaxPooling2 (None, 7, 7, 128)         0         \n",
      "_________________________________________________________________\n",
      "dropout_7 (Dropout)          (None, 7, 7, 128)         0         \n",
      "_________________________________________________________________\n",
      "flatten_2 (Flatten)          (None, 6272)              0         \n",
      "_________________________________________________________________\n",
      "dense_10 (Dense)             (None, 512)               3211776   \n",
      "_________________________________________________________________\n",
      "dropout_8 (Dropout)          (None, 512)               0         \n",
      "_________________________________________________________________\n",
      "dense_11 (Dense)             (None, 10)                5130      \n",
      "=================================================================\n",
      "Total params: 3,475,914\n",
      "Trainable params: 3,475,914\n",
      "Non-trainable params: 0\n",
      "_________________________________________________________________\n"
     ]
    }
   ],
   "source": [
    "batch_size=128\n",
    "nb_epochs=50\n",
    "dropout=0.2\n",
    "\n",
    "# build the model\n",
    "model = Better_CNN_model()\n",
    "#data augmentation\n",
    "datagen = ImageDataGenerator(featurewise_center=False,  # set input mean to 0 over the dataset\n",
    "                            samplewise_center=False,  # set each sample mean to 0\n",
    "                            featurewise_std_normalization=False,  # divide inputs by std of the dataset\n",
    "                            samplewise_std_normalization=False,  # divide each input by its std\n",
    "                            zca_whitening=False,  # apply ZCA whitening\n",
    "                            rotation_range=10,  # randomly rotate images in the range (degrees, 0 to 180)\n",
    "                            zoom_range = 0.1, # Randomly zoom image \n",
    "                            width_shift_range=0.1,  # randomly shift images horizontally (fraction of total width)\n",
    "                            height_shift_range=0.1,  # randomly shift images vertically (fraction of total height)\n",
    "                            horizontal_flip=False,  # randomly flip images\n",
    "                            vertical_flip=False)  # randomly flip images\n",
    "\n",
    "train_gen = datagen.flow(X_train, y_train, batch_size=batch_size)\n",
    "test_gen = datagen.flow(X_test, y_test, batch_size=batch_size)\n",
    "model.summary()"
   ]
  },
  {
   "cell_type": "code",
   "execution_count": 49,
   "metadata": {},
   "outputs": [],
   "source": [
    "# checkpoint\n",
    "filepath=\"weights.best.hdf5\"\n",
    "checkpoint = ModelCheckpoint(filepath, monitor='val_accuracy', verbose=1, save_best_only=True, mode='max')\n",
    "callbacks_list = [checkpoint]"
   ]
  },
  {
   "cell_type": "code",
   "execution_count": 50,
   "metadata": {},
   "outputs": [
    {
     "name": "stdout",
     "output_type": "stream",
     "text": [
      "Epoch 1/50\n",
      "468/468 [==============================] - 311s 664ms/step - loss: 0.2224 - accuracy: 0.9278 - val_loss: 0.0260 - val_accuracy: 0.9828\n",
      "\n",
      "Epoch 00001: val_accuracy improved from -inf to 0.98277, saving model to weights.best.hdf5\n",
      "Epoch 2/50\n",
      "468/468 [==============================] - 304s 649ms/step - loss: 0.0708 - accuracy: 0.9787 - val_loss: 0.0797 - val_accuracy: 0.9878\n",
      "\n",
      "Epoch 00002: val_accuracy improved from 0.98277 to 0.98784, saving model to weights.best.hdf5\n",
      "Epoch 3/50\n",
      "468/468 [==============================] - 307s 655ms/step - loss: 0.0521 - accuracy: 0.9840 - val_loss: 0.0422 - val_accuracy: 0.9891\n",
      "\n",
      "Epoch 00003: val_accuracy improved from 0.98784 to 0.98906, saving model to weights.best.hdf5\n",
      "Epoch 4/50\n",
      "468/468 [==============================] - 298s 637ms/step - loss: 0.0429 - accuracy: 0.9865 - val_loss: 0.0198 - val_accuracy: 0.9886\n",
      "\n",
      "Epoch 00004: val_accuracy did not improve from 0.98906\n",
      "Epoch 5/50\n",
      "468/468 [==============================] - 303s 646ms/step - loss: 0.0382 - accuracy: 0.9887 - val_loss: 0.0171 - val_accuracy: 0.9929\n",
      "\n",
      "Epoch 00005: val_accuracy improved from 0.98906 to 0.99291, saving model to weights.best.hdf5\n",
      "Epoch 6/50\n",
      "468/468 [==============================] - 304s 649ms/step - loss: 0.0355 - accuracy: 0.9890 - val_loss: 0.0038 - val_accuracy: 0.9931\n",
      "\n",
      "Epoch 00006: val_accuracy improved from 0.99291 to 0.99311, saving model to weights.best.hdf5\n",
      "Epoch 7/50\n",
      "468/468 [==============================] - 297s 634ms/step - loss: 0.0323 - accuracy: 0.9900 - val_loss: 0.0248 - val_accuracy: 0.9897\n",
      "\n",
      "Epoch 00007: val_accuracy did not improve from 0.99311\n",
      "Epoch 8/50\n",
      "468/468 [==============================] - 304s 650ms/step - loss: 0.0294 - accuracy: 0.9907 - val_loss: 0.0069 - val_accuracy: 0.9930\n",
      "\n",
      "Epoch 00008: val_accuracy did not improve from 0.99311\n",
      "Epoch 9/50\n",
      "468/468 [==============================] - 299s 639ms/step - loss: 0.0283 - accuracy: 0.9911 - val_loss: 0.0073 - val_accuracy: 0.9937\n",
      "\n",
      "Epoch 00009: val_accuracy improved from 0.99311 to 0.99372, saving model to weights.best.hdf5\n",
      "Epoch 10/50\n",
      "468/468 [==============================] - 299s 638ms/step - loss: 0.0272 - accuracy: 0.9915 - val_loss: 0.0472 - val_accuracy: 0.9932\n",
      "\n",
      "Epoch 00010: val_accuracy did not improve from 0.99372\n",
      "Epoch 11/50\n",
      "468/468 [==============================] - 297s 634ms/step - loss: 0.0246 - accuracy: 0.9926 - val_loss: 0.0501 - val_accuracy: 0.9936\n",
      "\n",
      "Epoch 00011: val_accuracy did not improve from 0.99372\n",
      "Epoch 12/50\n",
      "468/468 [==============================] - 298s 637ms/step - loss: 0.0241 - accuracy: 0.9924 - val_loss: 0.0099 - val_accuracy: 0.9942\n",
      "\n",
      "Epoch 00012: val_accuracy improved from 0.99372 to 0.99423, saving model to weights.best.hdf5\n",
      "Epoch 13/50\n",
      "468/468 [==============================] - 289s 617ms/step - loss: 0.0229 - accuracy: 0.9928 - val_loss: 5.8617e-04 - val_accuracy: 0.9930\n",
      "\n",
      "Epoch 00013: val_accuracy did not improve from 0.99423\n",
      "Epoch 14/50\n",
      "468/468 [==============================] - 295s 630ms/step - loss: 0.0223 - accuracy: 0.9931 - val_loss: 0.0061 - val_accuracy: 0.9943\n",
      "\n",
      "Epoch 00014: val_accuracy improved from 0.99423 to 0.99433, saving model to weights.best.hdf5\n",
      "Epoch 15/50\n",
      "468/468 [==============================] - 302s 646ms/step - loss: 0.0211 - accuracy: 0.9932 - val_loss: 0.0221 - val_accuracy: 0.9946\n",
      "\n",
      "Epoch 00015: val_accuracy improved from 0.99433 to 0.99463, saving model to weights.best.hdf5\n",
      "Epoch 16/50\n",
      "468/468 [==============================] - 301s 642ms/step - loss: 0.0203 - accuracy: 0.9938 - val_loss: 0.0020 - val_accuracy: 0.9942\n",
      "\n",
      "Epoch 00016: val_accuracy did not improve from 0.99463\n",
      "Epoch 17/50\n",
      "468/468 [==============================] - 307s 655ms/step - loss: 0.0198 - accuracy: 0.9937 - val_loss: 0.0093 - val_accuracy: 0.9941\n",
      "\n",
      "Epoch 00017: val_accuracy did not improve from 0.99463\n",
      "Epoch 18/50\n",
      "468/468 [==============================] - 305s 651ms/step - loss: 0.0189 - accuracy: 0.9940 - val_loss: 0.0342 - val_accuracy: 0.9940\n",
      "\n",
      "Epoch 00018: val_accuracy did not improve from 0.99463\n",
      "Epoch 19/50\n",
      "468/468 [==============================] - 299s 640ms/step - loss: 0.0187 - accuracy: 0.9941 - val_loss: 0.0146 - val_accuracy: 0.9941\n",
      "\n",
      "Epoch 00019: val_accuracy did not improve from 0.99463\n",
      "Epoch 20/50\n",
      "468/468 [==============================] - 305s 651ms/step - loss: 0.0184 - accuracy: 0.9940 - val_loss: 0.0696 - val_accuracy: 0.9954\n",
      "\n",
      "Epoch 00020: val_accuracy improved from 0.99463 to 0.99544, saving model to weights.best.hdf5\n",
      "Epoch 21/50\n",
      "468/468 [==============================] - 300s 642ms/step - loss: 0.0177 - accuracy: 0.9946 - val_loss: 0.0077 - val_accuracy: 0.9953\n",
      "\n",
      "Epoch 00021: val_accuracy did not improve from 0.99544\n",
      "Epoch 22/50\n",
      "468/468 [==============================] - 299s 640ms/step - loss: 0.0159 - accuracy: 0.9950 - val_loss: 0.0032 - val_accuracy: 0.9948\n",
      "\n",
      "Epoch 00022: val_accuracy did not improve from 0.99544\n",
      "Epoch 23/50\n",
      "468/468 [==============================] - 301s 644ms/step - loss: 0.0167 - accuracy: 0.9949 - val_loss: 0.0390 - val_accuracy: 0.9943\n",
      "\n",
      "Epoch 00023: val_accuracy did not improve from 0.99544\n",
      "Epoch 24/50\n",
      "468/468 [==============================] - 304s 651ms/step - loss: 0.0158 - accuracy: 0.9952 - val_loss: 0.0017 - val_accuracy: 0.9949\n",
      "\n",
      "Epoch 00024: val_accuracy did not improve from 0.99544\n",
      "Epoch 25/50\n",
      "468/468 [==============================] - 301s 644ms/step - loss: 0.0164 - accuracy: 0.9949 - val_loss: 0.0307 - val_accuracy: 0.9951\n",
      "\n",
      "Epoch 00025: val_accuracy did not improve from 0.99544\n",
      "Epoch 26/50\n",
      "468/468 [==============================] - 298s 637ms/step - loss: 0.0151 - accuracy: 0.9953 - val_loss: 0.0044 - val_accuracy: 0.9949\n",
      "\n",
      "Epoch 00026: val_accuracy did not improve from 0.99544\n",
      "Epoch 27/50\n",
      "468/468 [==============================] - 295s 630ms/step - loss: 0.0156 - accuracy: 0.9950 - val_loss: 0.0245 - val_accuracy: 0.9944\n",
      "\n",
      "Epoch 00027: val_accuracy did not improve from 0.99544\n",
      "Epoch 28/50\n",
      "468/468 [==============================] - 296s 633ms/step - loss: 0.0146 - accuracy: 0.9956 - val_loss: 3.7940e-04 - val_accuracy: 0.9948\n",
      "\n",
      "Epoch 00028: val_accuracy did not improve from 0.99544\n",
      "Epoch 29/50\n",
      "468/468 [==============================] - 301s 644ms/step - loss: 0.0158 - accuracy: 0.9949 - val_loss: 1.8847e-04 - val_accuracy: 0.9966\n",
      "\n",
      "Epoch 00029: val_accuracy improved from 0.99544 to 0.99656, saving model to weights.best.hdf5\n",
      "Epoch 30/50\n",
      "468/468 [==============================] - 306s 654ms/step - loss: 0.0146 - accuracy: 0.9951 - val_loss: 0.0049 - val_accuracy: 0.9912\n",
      "\n",
      "Epoch 00030: val_accuracy did not improve from 0.99656\n",
      "Epoch 31/50\n",
      "468/468 [==============================] - 303s 647ms/step - loss: 0.0139 - accuracy: 0.9957 - val_loss: 0.0038 - val_accuracy: 0.9960\n",
      "\n",
      "Epoch 00031: val_accuracy did not improve from 0.99656\n",
      "Epoch 32/50\n",
      "468/468 [==============================] - 302s 646ms/step - loss: 0.0126 - accuracy: 0.9960 - val_loss: 0.0257 - val_accuracy: 0.9947\n",
      "\n",
      "Epoch 00032: val_accuracy did not improve from 0.99656\n",
      "Epoch 33/50\n",
      "468/468 [==============================] - 304s 649ms/step - loss: 0.0145 - accuracy: 0.9954 - val_loss: 3.1906e-04 - val_accuracy: 0.9942\n",
      "\n",
      "Epoch 00033: val_accuracy did not improve from 0.99656\n",
      "Epoch 34/50\n",
      "468/468 [==============================] - 294s 629ms/step - loss: 0.0134 - accuracy: 0.9957 - val_loss: 0.0035 - val_accuracy: 0.9948\n",
      "\n",
      "Epoch 00034: val_accuracy did not improve from 0.99656\n",
      "Epoch 35/50\n",
      "468/468 [==============================] - 294s 627ms/step - loss: 0.0140 - accuracy: 0.9959 - val_loss: 0.0154 - val_accuracy: 0.9956\n",
      "\n",
      "Epoch 00035: val_accuracy did not improve from 0.99656\n",
      "Epoch 36/50\n",
      "468/468 [==============================] - 302s 645ms/step - loss: 0.0122 - accuracy: 0.9961 - val_loss: 0.0166 - val_accuracy: 0.9941\n",
      "\n",
      "Epoch 00036: val_accuracy did not improve from 0.99656\n",
      "Epoch 37/50\n",
      "468/468 [==============================] - 290s 619ms/step - loss: 0.0122 - accuracy: 0.9965 - val_loss: 0.0043 - val_accuracy: 0.9950\n",
      "\n",
      "Epoch 00037: val_accuracy did not improve from 0.99656\n",
      "Epoch 38/50\n",
      "468/468 [==============================] - 302s 645ms/step - loss: 0.0133 - accuracy: 0.9959 - val_loss: 0.0786 - val_accuracy: 0.9955\n",
      "\n",
      "Epoch 00038: val_accuracy did not improve from 0.99656\n",
      "Epoch 39/50\n"
     ]
    },
    {
     "name": "stdout",
     "output_type": "stream",
     "text": [
      "468/468 [==============================] - 302s 645ms/step - loss: 0.0122 - accuracy: 0.9961 - val_loss: 0.0041 - val_accuracy: 0.9942\n",
      "\n",
      "Epoch 00039: val_accuracy did not improve from 0.99656\n",
      "Epoch 40/50\n",
      "468/468 [==============================] - 292s 624ms/step - loss: 0.0126 - accuracy: 0.9957 - val_loss: 0.0111 - val_accuracy: 0.9950\n",
      "\n",
      "Epoch 00040: val_accuracy did not improve from 0.99656\n",
      "Epoch 41/50\n",
      "468/468 [==============================] - 302s 645ms/step - loss: 0.0127 - accuracy: 0.9959 - val_loss: 2.2846e-04 - val_accuracy: 0.9943\n",
      "\n",
      "Epoch 00041: val_accuracy did not improve from 0.99656\n",
      "Epoch 42/50\n",
      "468/468 [==============================] - 305s 652ms/step - loss: 0.0123 - accuracy: 0.9962 - val_loss: 0.0600 - val_accuracy: 0.9944\n",
      "\n",
      "Epoch 00042: val_accuracy did not improve from 0.99656\n",
      "Epoch 43/50\n",
      "468/468 [==============================] - 299s 640ms/step - loss: 0.0129 - accuracy: 0.9962 - val_loss: 4.3386e-04 - val_accuracy: 0.9943\n",
      "\n",
      "Epoch 00043: val_accuracy did not improve from 0.99656\n",
      "Epoch 44/50\n",
      "468/468 [==============================] - 309s 660ms/step - loss: 0.0127 - accuracy: 0.9961 - val_loss: 8.5782e-04 - val_accuracy: 0.9954\n",
      "\n",
      "Epoch 00044: val_accuracy did not improve from 0.99656\n",
      "Epoch 45/50\n",
      "468/468 [==============================] - 298s 637ms/step - loss: 0.0122 - accuracy: 0.9958 - val_loss: 0.0456 - val_accuracy: 0.9941\n",
      "\n",
      "Epoch 00045: val_accuracy did not improve from 0.99656\n",
      "Epoch 46/50\n",
      "468/468 [==============================] - 294s 629ms/step - loss: 0.0113 - accuracy: 0.9966 - val_loss: 0.0015 - val_accuracy: 0.9955\n",
      "\n",
      "Epoch 00046: val_accuracy did not improve from 0.99656\n",
      "Epoch 47/50\n",
      "468/468 [==============================] - 298s 638ms/step - loss: 0.0113 - accuracy: 0.9966 - val_loss: 3.7956e-04 - val_accuracy: 0.9942\n",
      "\n",
      "Epoch 00047: val_accuracy did not improve from 0.99656\n",
      "Epoch 48/50\n",
      "468/468 [==============================] - 303s 648ms/step - loss: 0.0134 - accuracy: 0.9959 - val_loss: 0.0010 - val_accuracy: 0.9937\n",
      "\n",
      "Epoch 00048: val_accuracy did not improve from 0.99656\n",
      "Epoch 49/50\n",
      "468/468 [==============================] - 293s 627ms/step - loss: 0.0102 - accuracy: 0.9968 - val_loss: 0.0094 - val_accuracy: 0.9953\n",
      "\n",
      "Epoch 00049: val_accuracy did not improve from 0.99656\n",
      "Epoch 50/50\n",
      "468/468 [==============================] - 295s 630ms/step - loss: 0.0114 - accuracy: 0.9965 - val_loss: 4.7378e-05 - val_accuracy: 0.9953\n",
      "\n",
      "Epoch 00050: val_accuracy did not improve from 0.99656\n"
     ]
    }
   ],
   "source": [
    "history = model.fit_generator(train_gen,\n",
    "                              epochs = nb_epochs, \n",
    "                              steps_per_epoch = X_train.shape[0] // batch_size,\n",
    "                              validation_data = test_gen,\n",
    "                              validation_steps = X_test.shape[0] // batch_size,\n",
    "                              callbacks=callbacks_list\n",
    "                             )"
   ]
  },
  {
   "cell_type": "code",
   "execution_count": 51,
   "metadata": {},
   "outputs": [
    {
     "data": {
      "image/png": "[encoded data removed]",
      "text/plain": [
       "<Figure size 720x360 with 2 Axes>"
      ]
     },
     "metadata": {
      "needs_background": "light"
     },
     "output_type": "display_data"
    }
   ],
   "source": [
    "# Plot the loss and accuracy curves for training and validation \n",
    "fig, ax = plt.subplots(2,1, figsize=(10, 5))\n",
    "ax[0].plot(history.history['loss'], color='b', label=\"Training loss\")\n",
    "ax[0].plot(history.history['val_loss'], color='r', label=\"validation loss\",axes =ax[0])\n",
    "legend = ax[0].legend(loc='best', shadow=True)\n",
    "\n",
    "ax[1].plot(history.history['accuracy'], color='b', label=\"Training accuracy\")\n",
    "ax[1].plot(history.history['val_accuracy'], color='r',label=\"Validation accuracy\")\n",
    "legend = ax[1].legend(loc='best', shadow=True)"
   ]
  },
  {
   "cell_type": "code",
   "execution_count": 52,
   "metadata": {},
   "outputs": [],
   "source": [
    "model.load_weights(\"weights.best.hdf5\")"
   ]
  },
  {
   "cell_type": "code",
   "execution_count": 53,
   "metadata": {},
   "outputs": [
    {
     "name": "stdout",
     "output_type": "stream",
     "text": [
      "New and Better CNN Error: 0.42%\n"
     ]
    }
   ],
   "source": [
    "# Final evaluation of the model\n",
    "scores = model.evaluate(X_test, y_test, verbose=0)\n",
    "print(\"New and Better CNN Error: %.2f%%\" % (100-scores[1]*100))"
   ]
  },
  {
   "cell_type": "code",
   "execution_count": 54,
   "metadata": {},
   "outputs": [],
   "source": [
    "y_pred = model.predict(X_test)\n",
    "X_test__ = X_test.reshape(X_test.shape[0], 28, 28)"
   ]
  },
  {
   "cell_type": "code",
   "execution_count": 55,
   "metadata": {},
   "outputs": [],
   "source": [
    "Actual=[y_test[i].argmax() for i, val in enumerate(y_test) ]\n",
    "Prediction=[y_pred[i].argmax() for i, val in enumerate(y_pred) ]\n",
    "\n",
    "df_pred=pd.DataFrame(y_pred)\n",
    "\n",
    "df_pred['Actual']=Actual\n",
    "df_pred['Prediction']=Prediction\n",
    "df_pred['Error']=df_pred['Actual']-df_pred['Prediction']\n",
    "df_pred.loc[df_pred[df_pred['Error']!=0].index,'Error']=1 # if incorrect 1 else 0\n",
    "\n",
    "# Find the probability associated with the actual digit\n",
    "vfunc=np.vectorize(lambda idx: df_pred.loc[idx,df_pred.loc[idx,'Actual']])\n",
    "df_pred['Probability']=vfunc(df_pred.index)"
   ]
  },
  {
   "cell_type": "code",
   "execution_count": 56,
   "metadata": {},
   "outputs": [],
   "source": [
    "# Sort by least confident \n",
    "df_pred.sort_values('Probability', inplace=True)"
   ]
  },
  {
   "cell_type": "code",
   "execution_count": 57,
   "metadata": {},
   "outputs": [
    {
     "data": {
      "image/png": "[encoded data removed]",
      "text/plain": [
       "<Figure size 576x648 with 16 Axes>"
      ]
     },
     "metadata": {},
     "output_type": "display_data"
    }
   ],
   "source": [
    "row=4; col=4\n",
    "fig, axes = plt.subplots(row, col, gridspec_kw={'hspace': 0.5, 'wspace': 0.1}, figsize=(8, 9))\n",
    "count=0\n",
    "for r in range(row):\n",
    "    for c in range(col):\n",
    "        idx=df_pred.index[count]\n",
    "        sns.heatmap(X_test__[idx],ax=axes[r,c], square=True, cbar=False,vmin=0,vmax=1,cmap='Greys')\n",
    "        axes[r,c].set(title = f\"Actual: {df_pred.loc[idx,'Actual']}\\nPrediction: {df_pred.loc[idx,'Prediction']}\");\n",
    "        axes[r,c].set_xticks([])\n",
    "        axes[r,c].set_yticks([])\n",
    "        \n",
    "        count+=1\n",
    "        \n",
    "fig.suptitle('Worst Predictions from Model',y=1.0, ha='center', fontsize=28, fontweight='bold')\n",
    "plt.figtext(0.5,  .08, f'Generated on: {now.strftime(\"%a %b %d %Y\")} at {now.strftime(\"%H:%M\")}', \n",
    "            color='Black', ha='center',fontsize=12)\n",
    "\n",
    "plt.show()"
   ]
  },
  {
   "cell_type": "code",
   "execution_count": null,
   "metadata": {},
   "outputs": [],
   "source": []
  },
  {
   "cell_type": "code",
   "execution_count": null,
   "metadata": {},
   "outputs": [],
   "source": []
  },
  {
   "cell_type": "markdown",
   "metadata": {},
   "source": [
    "# Fin"
   ]
  },
  {
   "cell_type": "code",
   "execution_count": 58,
   "metadata": {},
   "outputs": [],
   "source": [
    "# Converts notebook cells with # Export written on first line into python script \n",
    "#!python notebook2script.py RBE595_HW4_MNIST.ipynb"
   ]
  },
  {
   "cell_type": "code",
   "execution_count": null,
   "metadata": {},
   "outputs": [],
   "source": []
  },
  {
   "cell_type": "code",
   "execution_count": 59,
   "metadata": {},
   "outputs": [
    {
     "data": {
      "text/plain": [
       "58856"
      ]
     },
     "execution_count": 59,
     "metadata": {},
     "output_type": "execute_result"
    }
   ],
   "source": [
    "import gc\n",
    "gc.collect()"
   ]
  },
  {
   "cell_type": "code",
   "execution_count": 60,
   "metadata": {},
   "outputs": [
    {
     "name": "stdout",
     "output_type": "stream",
     "text": [
      "Finished: 2020-10-21 15:04:28.374180\n"
     ]
    }
   ],
   "source": [
    "print(\"Finished:\", dt.datetime.now())"
   ]
  }
 ],
 "metadata": {
  "kernelspec": {
   "display_name": "Python 3",
   "language": "python",
   "name": "python3"
  },
  "language_info": {
   "codemirror_mode": {
    "name": "ipython",
    "version": 3
   },
   "file_extension": ".py",
   "mimetype": "text/x-python",
   "name": "python",
   "nbconvert_exporter": "python",
   "pygments_lexer": "ipython3",
   "version": "3.6.12"
  }
 },
 "nbformat": 4,
 "nbformat_minor": 4
}
